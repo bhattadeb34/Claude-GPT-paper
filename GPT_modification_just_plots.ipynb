{
  "cells": [
    {
      "cell_type": "markdown",
      "metadata": {
        "id": "view-in-github",
        "colab_type": "text"
      },
      "source": [
        "<a href=\"https://colab.research.google.com/github/bhattadeb34/Claude-GPT-paper/blob/main/GPT_modification_just_plots.ipynb\" target=\"_parent\"><img src=\"https://colab.research.google.com/assets/colab-badge.svg\" alt=\"Open In Colab\"/></a>"
      ]
    },
    {
      "cell_type": "code",
      "source": [
        "from google.colab import drive\n",
        "drive.mount('/content/drive')"
      ],
      "metadata": {
        "id": "AL0SdTzCbPEz"
      },
      "execution_count": null,
      "outputs": []
    },
    {
      "cell_type": "code",
      "source": [
        "!pip install rdkit"
      ],
      "metadata": {
        "id": "U39qBFtUbc1K"
      },
      "execution_count": null,
      "outputs": []
    },
    {
      "cell_type": "code",
      "source": [
        "!pip install ase"
      ],
      "metadata": {
        "id": "Xva_ThOYmRa4"
      },
      "execution_count": null,
      "outputs": []
    },
    {
      "cell_type": "code",
      "source": [
        "!git clone https://github.com/bhattadeb34/Claude-GPT-paper.git"
      ],
      "metadata": {
        "id": "5iCPATJyuYMf"
      },
      "execution_count": null,
      "outputs": []
    },
    {
      "cell_type": "code",
      "execution_count": null,
      "metadata": {
        "id": "k9p7tNIdbMLf"
      },
      "outputs": [],
      "source": [
        "import os\n",
        "import pandas as pd\n",
        "import sys\n",
        "import json\n",
        "data_home = '/content/drive/MyDrive/FACT_EFRC'\n",
        "# Update to include the correct path to your custom modules\n",
        "functions_folder_path='/content/'\n",
        "dependent_functions_path = os.path.join(functions_folder_path, 'Claude-GPT-paper', 'dependent_functions')\n",
        "sys.path.append(dependent_functions_path)\n",
        "from loading_roar_colab_results import load_json_as_dict, map_smiles_to_latent_df\n",
        "\n",
        "from paper_plotting_results_notebook import (\n",
        "    generate_prompt_table,\n",
        "    plot_latent_space_averaged_by_prompt_grid,\n",
        "    plot_stacked_plots\n",
        ")"
      ]
    },
    {
      "cell_type": "code",
      "execution_count": null,
      "metadata": {
        "id": "Wb1JOA52bMLg"
      },
      "outputs": [],
      "source": [
        "def setup_paths(data_home,overall_results_filename):\n",
        "    paths = {\n",
        "        \"common_keys_path\": os.path.join(data_home, 'Claude-GPT-paper','fact-dropbox/zinc/tranches/out/IdentifyCommonMFPKeys-WriteAllMorganFingerprints-ConcatCSV-2D-AK-AKEC-000.json'),\n",
        "        \"pretrained_pca_path\": os.path.join(data_home,'Claude-GPT-paper', 'fact-dropbox/zinc/tranches/out/StructureEmbeddingMany-TransformMorganFingerprints-WriteAllMorganFingerprints-ConcatCSV-2D-AK-AKEC-009.lzma'),\n",
        "        \"overall_results_path\": os.path.join(data_home, 'Claude-GPT-paper', 'out', overall_results_filename),\n",
        "        \"base_save_path\": os.path.join(data_home, 'Claude-GPT-paper', 'out', 'Figures')\n",
        "    }\n",
        "    return paths\n",
        "def load_json_as_dict(filename):\n",
        "    \"\"\"\n",
        "    Loads a JSON file into a Python dictionary.\n",
        "\n",
        "    Parameters:\n",
        "    - filename (str): The name of the JSON file to be loaded.\n",
        "\n",
        "    Returns:\n",
        "    - dict: The Python dictionary loaded from the JSON file.\n",
        "    \"\"\"\n",
        "    with open(filename, 'r') as file:\n",
        "        data = json.load(file)\n",
        "    return data\n",
        "\n",
        "def load_data(overall_results_path, radius, common_keys_path, pretrained_pca_path):\n",
        "    overall_results = load_json_as_dict(overall_results_path)\n",
        "\n",
        "    # Calculate the path to the updated smiles_latent_map\n",
        "    smiles_latent_map_path = os.path.join(os.path.dirname(overall_results_path), \"smiles_latent_map_updated.json\")\n",
        "\n",
        "    # Load the updated smiles_latent_map\n",
        "    #smiles_latent_map = load_json_as_dict(smiles_latent_map_path)\n",
        "\n",
        "    # Previous way of loading smiles_latent_map, commented out for future reference\n",
        "    smiles_latent_map = map_smiles_to_latent_df(overall_results, radius, common_keys_path, pretrained_pca_path)\n",
        "\n",
        "    return overall_results, smiles_latent_map\n",
        "\n",
        "\n",
        "def generate_all_plots(overall_results, smiles_latent_map, base_save_path, data_home,quantities):\n",
        "\n",
        "    fname = os.path.join(data_home,'Claude-GPT-paper', 'fact-dropbox', 'zinc', 'tranches', 'out', 'StructureEmbeddingMany-TransformMorganFingerprints-WriteAllMorganFingerprints-ConcatCSV-2D-AK-AKEC-009.csv')\n",
        "    plot_latent_space_averaged_by_prompt_grid(overall_results, smiles_latent_map, fname,  'distances_latentP_space.pdf')\n",
        "    plot_stacked_plots(overall_results, smiles_latent_map, quantities,  'stacked_subplots_GPT.pdf')\n",
        "    generate_prompt_table(overall_results, smiles_latent_map, word_limit_per_line=6, save_path='prompt_table.pdf')\n",
        "\n",
        "if __name__ == '__main__':\n",
        "    overall_results_filename='claude_overall_results_A-H_2024-04-11_18-36-01.json'\n",
        "    quantities = ['validity_ratio', 'chemical_diversity']\n",
        "\n",
        "    paths = setup_paths(data_home,overall_results_filename)\n",
        "    overall_results, smiles_latent_map = load_data(paths['overall_results_path'], 2, paths['common_keys_path'], paths['pretrained_pca_path'])\n",
        "    generate_all_plots(overall_results, smiles_latent_map, paths['base_save_path'],data_home,quantities)\n"
      ]
    },
    {
      "cell_type": "markdown",
      "metadata": {
        "id": "aX_N2WgbbMLg"
      },
      "source": [
        "# Homo lumo energies"
      ]
    },
    {
      "cell_type": "code",
      "execution_count": null,
      "metadata": {
        "id": "aEwxciSdbMLg"
      },
      "outputs": [],
      "source": [
        "from homo_lumo_energies import (process_and_analyze_homo_lumo_energy_data,\n",
        "                                plot_combined_homo_lumo_energy_differences)"
      ]
    },
    {
      "cell_type": "code",
      "execution_count": null,
      "metadata": {
        "id": "iJJWdSrXbMLg"
      },
      "outputs": [],
      "source": [
        "\n",
        "A_H_overall_results_filename = 'claude_overall_results_A-H_2024-04-11_18-36-01.json'\n",
        "EWG_overall_results_filename = 'claude_overall_results_EWG_hickner2024-04-11_02-08-21.json'\n",
        "EDG_overall_results_filename = 'claude_overall_results_EDG_hickner2024-04-12_11-13-35.json'\n",
        "allowed_keys = ['A', 'B', 'C', 'D']\n",
        "\n",
        "# Processing for A-H dataset\n",
        "A_H_results = process_and_analyze_homo_lumo_energy_data(data_home, A_H_overall_results_filename, allowed_keys=allowed_keys)\n",
        "print(\"Processed A-H Dataset:\", A_H_results)\n",
        "\n",
        "# Processing for EWG dataset\n",
        "EWG_results = process_and_analyze_homo_lumo_energy_data(data_home, EWG_overall_results_filename)\n",
        "print(\"Processed EWG Dataset:\", EWG_results)\n",
        "\n",
        "# Processing for EWG dataset\n",
        "EDG_results = process_and_analyze_homo_lumo_energy_data(data_home, EDG_overall_results_filename,\n",
        "                                                        allowed_keys=None,\n",
        "                                                        radius=2,\n",
        "                                                        start_letter='M')\n",
        "print(\"Processed EDG Dataset:\", EDG_results)\n"
      ]
    },
    {
      "cell_type": "code",
      "execution_count": null,
      "metadata": {
        "id": "IAaCQ7I7bMLh"
      },
      "outputs": [],
      "source": [
        "homo_lumo_save_path_filename='homo_lumo'\n",
        "\n",
        "\n",
        "plot_combined_homo_lumo_energy_differences(A_H_results['energy_differences_deviation_by_prompt'],\n",
        "                                           EWG_results['energy_differences_deviation_by_prompt'],\n",
        "                                           EDG_results['energy_differences_deviation_by_prompt'],\n",
        "                                           A_H_results['filtered_prompt_mapping'],\n",
        "                                           EWG_results['filtered_prompt_mapping'],\n",
        "                                           EDG_results['filtered_prompt_mapping'],\n",
        "                                           figsize=(16, 8),\n",
        "                                           condense_percentile=0.99,\n",
        "                                           save_path=homo_lumo_save_path_filename)\n"
      ]
    }
  ],
  "metadata": {
    "kernelspec": {
      "display_name": "Python 3",
      "language": "python",
      "name": "python3"
    },
    "language_info": {
      "codemirror_mode": {
        "name": "ipython",
        "version": 3
      },
      "file_extension": ".py",
      "mimetype": "text/x-python",
      "name": "python",
      "nbconvert_exporter": "python",
      "pygments_lexer": "ipython3",
      "version": "3.10.12"
    },
    "colab": {
      "provenance": [],
      "include_colab_link": true
    }
  },
  "nbformat": 4,
  "nbformat_minor": 0
}